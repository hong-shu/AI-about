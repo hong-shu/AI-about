{
 "cells": [
  {
   "cell_type": "code",
   "execution_count": null,
   "id": "fed07ade",
   "metadata": {},
   "outputs": [],
   "source": [
    "import openai\n",
    "import requests\n",
    "import json\n",
    "\n",
    "openai.api_key = \"api_key\"\n",
    "openai.organization = \"organization_id\""
   ]
  },
  {
   "cell_type": "code",
   "execution_count": null,
   "id": "271c9c63",
   "metadata": {},
   "outputs": [],
   "source": [
    "SystemPrompt = \"\""
   ]
  },
  {
   "cell_type": "code",
   "execution_count": null,
   "id": "fbf96576",
   "metadata": {},
   "outputs": [],
   "source": [
    "model = \"gpt-3.5-turbo-16k-0613\"\n",
    "n = 1\n",
    "\n",
    "temperature = 0.5\n",
    "messages = [\n",
    "    {\n",
    "        \"role\": \"system\",\n",
    "        \"content\": SystemPrompt\n",
    "    }\n",
    "]"
   ]
  },
  {
   "cell_type": "code",
   "execution_count": null,
   "id": "b4650755",
   "metadata": {},
   "outputs": [],
   "source": []
  },
  {
   "cell_type": "code",
   "execution_count": null,
   "id": "f3b4d908",
   "metadata": {},
   "outputs": [],
   "source": []
  }
 ],
 "metadata": {
  "kernelspec": {
   "display_name": "Python 3 (ipykernel)",
   "language": "python",
   "name": "python3"
  },
  "language_info": {
   "codemirror_mode": {
    "name": "ipython",
    "version": 3
   },
   "file_extension": ".py",
   "mimetype": "text/x-python",
   "name": "python",
   "nbconvert_exporter": "python",
   "pygments_lexer": "ipython3",
   "version": "3.8.16"
  }
 },
 "nbformat": 4,
 "nbformat_minor": 5
}
